{
 "cells": [
  {
   "cell_type": "markdown",
   "metadata": {},
   "source": [
    "# 이변량(두 변수) 데이터 검색"
   ]
  },
  {
   "cell_type": "code",
   "execution_count": 2,
   "metadata": {},
   "outputs": [],
   "source": [
    "import pandas as pd\n",
    "data = pd.read_csv('Ex_CEOSalary.csv',encoding='utf-8')"
   ]
  },
  {
   "cell_type": "code",
   "execution_count": 3,
   "metadata": {},
   "outputs": [
    {
     "data": {
      "text/html": [
       "<div>\n",
       "<style scoped>\n",
       "    .dataframe tbody tr th:only-of-type {\n",
       "        vertical-align: middle;\n",
       "    }\n",
       "\n",
       "    .dataframe tbody tr th {\n",
       "        vertical-align: top;\n",
       "    }\n",
       "\n",
       "    .dataframe thead th {\n",
       "        text-align: right;\n",
       "    }\n",
       "</style>\n",
       "<table border=\"1\" class=\"dataframe\">\n",
       "  <thead>\n",
       "    <tr style=\"text-align: right;\">\n",
       "      <th></th>\n",
       "      <th>salary</th>\n",
       "      <th>sales</th>\n",
       "      <th>roe</th>\n",
       "      <th>industry</th>\n",
       "    </tr>\n",
       "  </thead>\n",
       "  <tbody>\n",
       "    <tr>\n",
       "      <th>salary</th>\n",
       "      <td>1.000000</td>\n",
       "      <td>0.119869</td>\n",
       "      <td>0.114842</td>\n",
       "      <td>-0.015725</td>\n",
       "    </tr>\n",
       "    <tr>\n",
       "      <th>sales</th>\n",
       "      <td>0.119869</td>\n",
       "      <td>1.000000</td>\n",
       "      <td>-0.055386</td>\n",
       "      <td>-0.100284</td>\n",
       "    </tr>\n",
       "    <tr>\n",
       "      <th>roe</th>\n",
       "      <td>0.114842</td>\n",
       "      <td>-0.055386</td>\n",
       "      <td>1.000000</td>\n",
       "      <td>-0.011833</td>\n",
       "    </tr>\n",
       "    <tr>\n",
       "      <th>industry</th>\n",
       "      <td>-0.015725</td>\n",
       "      <td>-0.100284</td>\n",
       "      <td>-0.011833</td>\n",
       "      <td>1.000000</td>\n",
       "    </tr>\n",
       "  </tbody>\n",
       "</table>\n",
       "</div>"
      ],
      "text/plain": [
       "            salary     sales       roe  industry\n",
       "salary    1.000000  0.119869  0.114842 -0.015725\n",
       "sales     0.119869  1.000000 -0.055386 -0.100284\n",
       "roe       0.114842 -0.055386  1.000000 -0.011833\n",
       "industry -0.015725 -0.100284 -0.011833  1.000000"
      ]
     },
     "execution_count": 3,
     "metadata": {},
     "output_type": "execute_result"
    }
   ],
   "source": [
    "data.corr()"
   ]
  },
  {
   "cell_type": "code",
   "execution_count": 4,
   "metadata": {},
   "outputs": [
    {
     "data": {
      "text/html": [
       "<div>\n",
       "<style scoped>\n",
       "    .dataframe tbody tr th:only-of-type {\n",
       "        vertical-align: middle;\n",
       "    }\n",
       "\n",
       "    .dataframe tbody tr th {\n",
       "        vertical-align: top;\n",
       "    }\n",
       "\n",
       "    .dataframe thead th {\n",
       "        text-align: right;\n",
       "    }\n",
       "</style>\n",
       "<table border=\"1\" class=\"dataframe\">\n",
       "  <thead>\n",
       "    <tr style=\"text-align: right;\">\n",
       "      <th></th>\n",
       "      <th>salary</th>\n",
       "      <th>sales</th>\n",
       "      <th>roe</th>\n",
       "      <th>industry</th>\n",
       "    </tr>\n",
       "  </thead>\n",
       "  <tbody>\n",
       "    <tr>\n",
       "      <th>salary</th>\n",
       "      <td>1.000000</td>\n",
       "      <td>0.119869</td>\n",
       "      <td>0.114842</td>\n",
       "      <td>-0.015725</td>\n",
       "    </tr>\n",
       "    <tr>\n",
       "      <th>sales</th>\n",
       "      <td>0.119869</td>\n",
       "      <td>1.000000</td>\n",
       "      <td>-0.055386</td>\n",
       "      <td>-0.100284</td>\n",
       "    </tr>\n",
       "    <tr>\n",
       "      <th>roe</th>\n",
       "      <td>0.114842</td>\n",
       "      <td>-0.055386</td>\n",
       "      <td>1.000000</td>\n",
       "      <td>-0.011833</td>\n",
       "    </tr>\n",
       "    <tr>\n",
       "      <th>industry</th>\n",
       "      <td>-0.015725</td>\n",
       "      <td>-0.100284</td>\n",
       "      <td>-0.011833</td>\n",
       "      <td>1.000000</td>\n",
       "    </tr>\n",
       "  </tbody>\n",
       "</table>\n",
       "</div>"
      ],
      "text/plain": [
       "            salary     sales       roe  industry\n",
       "salary    1.000000  0.119869  0.114842 -0.015725\n",
       "sales     0.119869  1.000000 -0.055386 -0.100284\n",
       "roe       0.114842 -0.055386  1.000000 -0.011833\n",
       "industry -0.015725 -0.100284 -0.011833  1.000000"
      ]
     },
     "execution_count": 4,
     "metadata": {},
     "output_type": "execute_result"
    }
   ],
   "source": [
    "data.corr(method='pearson') # 디폴트"
   ]
  },
  {
   "cell_type": "code",
   "execution_count": 6,
   "metadata": {},
   "outputs": [
    {
     "data": {
      "text/html": [
       "<div>\n",
       "<style scoped>\n",
       "    .dataframe tbody tr th:only-of-type {\n",
       "        vertical-align: middle;\n",
       "    }\n",
       "\n",
       "    .dataframe tbody tr th {\n",
       "        vertical-align: top;\n",
       "    }\n",
       "\n",
       "    .dataframe thead th {\n",
       "        text-align: right;\n",
       "    }\n",
       "</style>\n",
       "<table border=\"1\" class=\"dataframe\">\n",
       "  <thead>\n",
       "    <tr style=\"text-align: right;\">\n",
       "      <th></th>\n",
       "      <th>salary</th>\n",
       "      <th>sales</th>\n",
       "      <th>roe</th>\n",
       "      <th>industry</th>\n",
       "    </tr>\n",
       "  </thead>\n",
       "  <tbody>\n",
       "    <tr>\n",
       "      <th>salary</th>\n",
       "      <td>1.000000</td>\n",
       "      <td>0.528016</td>\n",
       "      <td>0.205984</td>\n",
       "      <td>-0.203598</td>\n",
       "    </tr>\n",
       "    <tr>\n",
       "      <th>sales</th>\n",
       "      <td>0.528016</td>\n",
       "      <td>1.000000</td>\n",
       "      <td>-0.170548</td>\n",
       "      <td>-0.107410</td>\n",
       "    </tr>\n",
       "    <tr>\n",
       "      <th>roe</th>\n",
       "      <td>0.205984</td>\n",
       "      <td>-0.170548</td>\n",
       "      <td>1.000000</td>\n",
       "      <td>-0.080250</td>\n",
       "    </tr>\n",
       "    <tr>\n",
       "      <th>industry</th>\n",
       "      <td>-0.203598</td>\n",
       "      <td>-0.107410</td>\n",
       "      <td>-0.080250</td>\n",
       "      <td>1.000000</td>\n",
       "    </tr>\n",
       "  </tbody>\n",
       "</table>\n",
       "</div>"
      ],
      "text/plain": [
       "            salary     sales       roe  industry\n",
       "salary    1.000000  0.528016  0.205984 -0.203598\n",
       "sales     0.528016  1.000000 -0.170548 -0.107410\n",
       "roe       0.205984 -0.170548  1.000000 -0.080250\n",
       "industry -0.203598 -0.107410 -0.080250  1.000000"
      ]
     },
     "execution_count": 6,
     "metadata": {},
     "output_type": "execute_result"
    }
   ],
   "source": [
    "data.corr(method='spearman')"
   ]
  },
  {
   "cell_type": "code",
   "execution_count": 5,
   "metadata": {},
   "outputs": [
    {
     "data": {
      "text/html": [
       "<div>\n",
       "<style scoped>\n",
       "    .dataframe tbody tr th:only-of-type {\n",
       "        vertical-align: middle;\n",
       "    }\n",
       "\n",
       "    .dataframe tbody tr th {\n",
       "        vertical-align: top;\n",
       "    }\n",
       "\n",
       "    .dataframe thead th {\n",
       "        text-align: right;\n",
       "    }\n",
       "</style>\n",
       "<table border=\"1\" class=\"dataframe\">\n",
       "  <thead>\n",
       "    <tr style=\"text-align: right;\">\n",
       "      <th></th>\n",
       "      <th>salary</th>\n",
       "      <th>sales</th>\n",
       "      <th>roe</th>\n",
       "      <th>industry</th>\n",
       "    </tr>\n",
       "  </thead>\n",
       "  <tbody>\n",
       "    <tr>\n",
       "      <th>salary</th>\n",
       "      <td>1.000000</td>\n",
       "      <td>0.363921</td>\n",
       "      <td>0.143672</td>\n",
       "      <td>-0.141304</td>\n",
       "    </tr>\n",
       "    <tr>\n",
       "      <th>sales</th>\n",
       "      <td>0.363921</td>\n",
       "      <td>1.000000</td>\n",
       "      <td>-0.123844</td>\n",
       "      <td>-0.080984</td>\n",
       "    </tr>\n",
       "    <tr>\n",
       "      <th>roe</th>\n",
       "      <td>0.143672</td>\n",
       "      <td>-0.123844</td>\n",
       "      <td>1.000000</td>\n",
       "      <td>-0.054290</td>\n",
       "    </tr>\n",
       "    <tr>\n",
       "      <th>industry</th>\n",
       "      <td>-0.141304</td>\n",
       "      <td>-0.080984</td>\n",
       "      <td>-0.054290</td>\n",
       "      <td>1.000000</td>\n",
       "    </tr>\n",
       "  </tbody>\n",
       "</table>\n",
       "</div>"
      ],
      "text/plain": [
       "            salary     sales       roe  industry\n",
       "salary    1.000000  0.363921  0.143672 -0.141304\n",
       "sales     0.363921  1.000000 -0.123844 -0.080984\n",
       "roe       0.143672 -0.123844  1.000000 -0.054290\n",
       "industry -0.141304 -0.080984 -0.054290  1.000000"
      ]
     },
     "execution_count": 5,
     "metadata": {},
     "output_type": "execute_result"
    }
   ],
   "source": [
    "data.corr(method='kendall')"
   ]
  },
  {
   "cell_type": "code",
   "execution_count": 16,
   "metadata": {},
   "outputs": [
    {
     "data": {
      "image/png": "[encoded data removed]",
      "text/plain": [
       "<Figure size 432x288 with 1 Axes>"
      ]
     },
     "metadata": {
      "needs_background": "light"
     },
     "output_type": "display_data"
    }
   ],
   "source": [
    "# 두 연속형 변수 간의 관계는 산점도(scatter plot)으로 확인하는 것이 좋다.\n",
    "import matplotlib.pyplot as plt\n",
    "plt.scatter(data['sales'],data['salary'],alpha=0.5)\n",
    "plt.show()"
   ]
  },
  {
   "cell_type": "code",
   "execution_count": 17,
   "metadata": {},
   "outputs": [
    {
     "data": {
      "text/html": [
       "<div>\n",
       "<style scoped>\n",
       "    .dataframe tbody tr th:only-of-type {\n",
       "        vertical-align: middle;\n",
       "    }\n",
       "\n",
       "    .dataframe tbody tr th {\n",
       "        vertical-align: top;\n",
       "    }\n",
       "\n",
       "    .dataframe thead tr th {\n",
       "        text-align: left;\n",
       "    }\n",
       "\n",
       "    .dataframe thead tr:last-of-type th {\n",
       "        text-align: right;\n",
       "    }\n",
       "</style>\n",
       "<table border=\"1\" class=\"dataframe\">\n",
       "  <thead>\n",
       "    <tr>\n",
       "      <th></th>\n",
       "      <th colspan=\"8\" halign=\"left\">salary</th>\n",
       "    </tr>\n",
       "    <tr>\n",
       "      <th></th>\n",
       "      <th>count</th>\n",
       "      <th>mean</th>\n",
       "      <th>std</th>\n",
       "      <th>min</th>\n",
       "      <th>25%</th>\n",
       "      <th>50%</th>\n",
       "      <th>75%</th>\n",
       "      <th>max</th>\n",
       "    </tr>\n",
       "    <tr>\n",
       "      <th>industry</th>\n",
       "      <th></th>\n",
       "      <th></th>\n",
       "      <th></th>\n",
       "      <th></th>\n",
       "      <th></th>\n",
       "      <th></th>\n",
       "      <th></th>\n",
       "      <th></th>\n",
       "    </tr>\n",
       "  </thead>\n",
       "  <tbody>\n",
       "    <tr>\n",
       "      <th>1</th>\n",
       "      <td>72.0</td>\n",
       "      <td>1153.875000</td>\n",
       "      <td>563.472032</td>\n",
       "      <td>256.0</td>\n",
       "      <td>811.25</td>\n",
       "      <td>1064.0</td>\n",
       "      <td>1348.50</td>\n",
       "      <td>3844.0</td>\n",
       "    </tr>\n",
       "    <tr>\n",
       "      <th>2</th>\n",
       "      <td>46.0</td>\n",
       "      <td>1344.913043</td>\n",
       "      <td>1002.813128</td>\n",
       "      <td>441.0</td>\n",
       "      <td>884.00</td>\n",
       "      <td>1119.5</td>\n",
       "      <td>1406.00</td>\n",
       "      <td>6640.0</td>\n",
       "    </tr>\n",
       "    <tr>\n",
       "      <th>3</th>\n",
       "      <td>60.0</td>\n",
       "      <td>1722.416667</td>\n",
       "      <td>2242.687041</td>\n",
       "      <td>223.0</td>\n",
       "      <td>911.00</td>\n",
       "      <td>1246.0</td>\n",
       "      <td>1643.75</td>\n",
       "      <td>14822.0</td>\n",
       "    </tr>\n",
       "    <tr>\n",
       "      <th>4</th>\n",
       "      <td>31.0</td>\n",
       "      <td>627.870968</td>\n",
       "      <td>175.264323</td>\n",
       "      <td>333.0</td>\n",
       "      <td>501.50</td>\n",
       "      <td>607.0</td>\n",
       "      <td>726.00</td>\n",
       "      <td>1100.0</td>\n",
       "    </tr>\n",
       "  </tbody>\n",
       "</table>\n",
       "</div>"
      ],
      "text/plain": [
       "         salary                                                            \\\n",
       "          count         mean          std    min     25%     50%      75%   \n",
       "industry                                                                    \n",
       "1          72.0  1153.875000   563.472032  256.0  811.25  1064.0  1348.50   \n",
       "2          46.0  1344.913043  1002.813128  441.0  884.00  1119.5  1406.00   \n",
       "3          60.0  1722.416667  2242.687041  223.0  911.00  1246.0  1643.75   \n",
       "4          31.0   627.870968   175.264323  333.0  501.50   607.0   726.00   \n",
       "\n",
       "                   \n",
       "              max  \n",
       "industry           \n",
       "1          3844.0  \n",
       "2          6640.0  \n",
       "3         14822.0  \n",
       "4          1100.0  "
      ]
     },
     "execution_count": 17,
     "metadata": {},
     "output_type": "execute_result"
    }
   ],
   "source": [
    "data.groupby('industry')[['salary']].describe()"
   ]
  }
 ],
 "metadata": {
  "interpreter": {
   "hash": "aee8b7b246df8f9039afb4144a1f6fd8d2ca17a180786b69acc140d282b71a49"
  },
  "kernelspec": {
   "display_name": "Python 3.10.1 64-bit",
   "language": "python",
   "name": "python3"
  },
  "language_info": {
   "codemirror_mode": {
    "name": "ipython",
    "version": 3
   },
   "file_extension": ".py",
   "mimetype": "text/x-python",
   "name": "python",
   "nbconvert_exporter": "python",
   "pygments_lexer": "ipython3",
   "version": "3.10.1"
  },
  "orig_nbformat": 4
 },
 "nbformat": 4,
 "nbformat_minor": 2
}
