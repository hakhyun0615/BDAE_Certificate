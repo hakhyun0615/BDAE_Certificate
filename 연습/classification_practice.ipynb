{
 "cells": [
  {
   "cell_type": "code",
   "execution_count": 23,
   "metadata": {},
   "outputs": [
    {
     "name": "stderr",
     "output_type": "stream",
     "text": [
      "/Library/Frameworks/Python.framework/Versions/3.10/lib/python3.10/site-packages/sklearn/utils/validation.py:1858: FutureWarning: Feature names only support names that are all strings. Got feature names with dtypes: ['int', 'str']. An error will be raised in 1.2.\n",
      "  warnings.warn(\n",
      "/Library/Frameworks/Python.framework/Versions/3.10/lib/python3.10/site-packages/sklearn/utils/validation.py:1858: FutureWarning: Feature names only support names that are all strings. Got feature names with dtypes: ['int', 'str']. An error will be raised in 1.2.\n",
      "  warnings.warn(\n",
      "/Library/Frameworks/Python.framework/Versions/3.10/lib/python3.10/site-packages/sklearn/utils/validation.py:1858: FutureWarning: Feature names only support names that are all strings. Got feature names with dtypes: ['int', 'str']. An error will be raised in 1.2.\n",
      "  warnings.warn(\n"
     ]
    }
   ],
   "source": [
    "# 7(1+3+1+2)\n",
    "import pandas as pd\n",
    "from sklearn.model_selection import train_test_split\n",
    "from sklearn.preprocessing import MinMaxScaler\n",
    "from sklearn.linear_model import LogisticRegression\n",
    "\n",
    "# read\n",
    "data = pd.read_csv('vote.csv')\n",
    "\n",
    "# X/y\n",
    "X = data[['gender', 'region', 'edu', 'income', 'age', 'score_gov', 'score_progress', 'score_intention']]\n",
    "y = data[['parties']]\n",
    "\n",
    "# train/test\n",
    "X_train, X_test, y_train, y_test = train_test_split(X,y,stratify=y,random_state=42)\n",
    "\n",
    "# X cat dummies,align\n",
    "X_train_cat = pd.get_dummies(X_train[['gender', 'region']])\n",
    "X_train_num = X_train[['edu', 'income', 'age','score_gov', 'score_progress', 'score_intention']]\n",
    "X_test_cat = pd.get_dummies(X_test[['gender', 'region']])\n",
    "X_test_num = X_test[['edu', 'income', 'age','score_gov', 'score_progress', 'score_intention']]\n",
    "X_train_cat, X_test_cat = X_train_cat.align(X_test_cat,join='inner',axis=1)\n",
    "\n",
    "# X num 정규화\n",
    "scaler = MinMaxScaler()\n",
    "scaler.fit(X_train_num)\n",
    "X_scaled_train_num = scaler.transform(X_train_num)\n",
    "X_scaled_test_num = scaler.transform(X_test_num)\n",
    "\n",
    "# X final\n",
    "X_final_train = pd.concat([pd.DataFrame(X_scaled_train_num), X_train_cat.reset_index(drop=True)],axis=1)\n",
    "X_final_test = pd.concat([pd.DataFrame(X_scaled_test_num), X_test_cat.reset_index(drop=True)],axis=1)\n",
    "\n",
    "# y\n",
    "y_train = y_train['parties']\n",
    "\n",
    "# 모델 학습\n",
    "model = LogisticRegression()\n",
    "model.fit(X_final_train, y_train)\n",
    "\n",
    "# 모델 학습 결과\n",
    "pred_test = model.predict(X_final_test)\n",
    "pred_proba_test = model.predict_proba(X_final_test)\n",
    "pred_proba_test = pd.DataFrame(pred_proba_test, columns=['predict_proba_1','predict_proba_2','predict_proba_3','predict_proba_4'])"
   ]
  },
  {
   "cell_type": "code",
   "execution_count": null,
   "metadata": {},
   "outputs": [],
   "source": []
  }
 ],
 "metadata": {
  "interpreter": {
   "hash": "aee8b7b246df8f9039afb4144a1f6fd8d2ca17a180786b69acc140d282b71a49"
  },
  "kernelspec": {
   "display_name": "Python 3.10.1 64-bit",
   "language": "python",
   "name": "python3"
  },
  "language_info": {
   "codemirror_mode": {
    "name": "ipython",
    "version": 3
   },
   "file_extension": ".py",
   "mimetype": "text/x-python",
   "name": "python",
   "nbconvert_exporter": "python",
   "pygments_lexer": "ipython3",
   "version": "3.10.1"
  },
  "orig_nbformat": 4
 },
 "nbformat": 4,
 "nbformat_minor": 2
}
