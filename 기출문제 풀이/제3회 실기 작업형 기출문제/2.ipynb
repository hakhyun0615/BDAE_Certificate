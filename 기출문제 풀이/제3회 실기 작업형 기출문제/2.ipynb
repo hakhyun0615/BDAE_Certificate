{
 "cells": [
  {
   "cell_type": "code",
   "execution_count": 34,
   "metadata": {},
   "outputs": [
    {
     "name": "stderr",
     "output_type": "stream",
     "text": [
      "/Library/Frameworks/Python.framework/Versions/3.10/lib/python3.10/site-packages/sklearn/utils/validation.py:1858: FutureWarning: Feature names only support names that are all strings. Got feature names with dtypes: ['int', 'str']. An error will be raised in 1.2.\n",
      "  warnings.warn(\n",
      "/Library/Frameworks/Python.framework/Versions/3.10/lib/python3.10/site-packages/sklearn/utils/validation.py:1858: FutureWarning: Feature names only support names that are all strings. Got feature names with dtypes: ['int', 'str']. An error will be raised in 1.2.\n",
      "  warnings.warn(\n"
     ]
    }
   ],
   "source": [
    "# 7(1+3+1+2)\n",
    "import pandas as pd\n",
    "from sklearn.preprocessing import MinMaxScaler\n",
    "from sklearn.linear_model import LogisticRegression\n",
    "\n",
    "# read\n",
    "train = pd.read_csv('3rd_TravelInsurancePrediction_train.csv')\n",
    "X_train = train[train.columns[1:-1]]\n",
    "X_test = pd.read_csv('3rd_TravelInsurancePrediction_test.csv')\n",
    "y_train = train[['TravelInsurance']]\n",
    "\n",
    "# X cat getdummies,align\n",
    "X_train_num = X_train[['Age', 'AnnualIncome', 'FamilyMembers']]\n",
    "X_train_cat = pd.get_dummies(X_train[['Employment Type', 'GraduateOrNot', 'ChronicDiseases', 'FrequentFlyer', 'EverTravelledAbroad']])\n",
    "X_test_num = X_test[['Age', 'AnnualIncome', 'FamilyMembers']]\n",
    "X_test_cat = pd.get_dummies(X_test[['Employment Type', 'GraduateOrNot', 'ChronicDiseases', 'FrequentFlyer', 'EverTravelledAbroad']])\n",
    "X_train_cat, X_test_cat = X_train_cat.align(X_test_cat, join='inner', axis=1)\n",
    "\n",
    "# X num 정규화\n",
    "scaler = MinMaxScaler()\n",
    "scaler.fit(X_train_num)\n",
    "X_scaled_train_num = scaler.transform(X_train_num)\n",
    "X_scaled_test_num = scaler.transform(X_test_num)\n",
    "\n",
    "# X final\n",
    "X_train_final = pd.concat([pd.DataFrame(X_scaled_train_num), X_train_cat], axis=1)\n",
    "X_test_final = pd.concat([pd.DataFrame(X_scaled_test_num), X_test_cat], axis=1)\n",
    "\n",
    "# y\n",
    "y_train = y_train['TravelInsurance']\n",
    "\n",
    "# 모델 학습\n",
    "model = LogisticRegression()\n",
    "model.fit(X_train_final, y_train)\n",
    "\n",
    "# 모델 학습 결과\n",
    "predict_proba_test = model.predict_proba(X_test_final)\n",
    "predict_proba_test = pd.DataFrame(predict_proba_test[:,1],columns=['predict proba'])\n",
    "final_result = pd.concat([X_test['ID'],predict_proba_test],axis=1)\n",
    "final_result.to_csv('predict_practice.csv',index=False)"
   ]
  },
  {
   "cell_type": "code",
   "execution_count": 33,
   "metadata": {},
   "outputs": [
    {
     "name": "stderr",
     "output_type": "stream",
     "text": [
      "/Library/Frameworks/Python.framework/Versions/3.10/lib/python3.10/site-packages/sklearn/utils/validation.py:1858: FutureWarning: Feature names only support names that are all strings. Got feature names with dtypes: ['int', 'str']. An error will be raised in 1.2.\n",
      "  warnings.warn(\n",
      "/Library/Frameworks/Python.framework/Versions/3.10/lib/python3.10/site-packages/sklearn/utils/validation.py:1858: FutureWarning: Feature names only support names that are all strings. Got feature names with dtypes: ['int', 'str']. An error will be raised in 1.2.\n",
      "  warnings.warn(\n"
     ]
    }
   ],
   "source": [
    "import pandas as pd\n",
    "from sklearn.preprocessing import MinMaxScaler\n",
    "from sklearn.linear_model import LogisticRegression\n",
    "\n",
    "test = pd.read_csv('3rd_TravelInsurancePrediction_test.csv')\n",
    "train = pd.read_csv('3rd_TravelInsurancePrediction_train.csv')\n",
    "X = train[['Age', 'Employment Type', 'GraduateOrNot', 'AnnualIncome', 'FamilyMembers', 'ChronicDiseases', 'FrequentFlyer', 'EverTravelledAbroad']]\n",
    "y = train[['TravelInsurance']]\n",
    "\n",
    "X_num = X[['Age', 'AnnualIncome', 'FamilyMembers', 'ChronicDiseases']]\n",
    "X_cat = pd.get_dummies(X[['Employment Type', 'GraduateOrNot', 'FrequentFlyer', 'EverTravelledAbroad']])\n",
    "test_num = test[['Age', 'AnnualIncome', 'FamilyMembers', 'ChronicDiseases']]\n",
    "test_cat = pd.get_dummies(test[['Employment Type', 'GraduateOrNot', 'FrequentFlyer', 'EverTravelledAbroad']])\n",
    "X_cat, test_cat = X_cat.align(test_cat, join='inner', axis=1)\n",
    "\n",
    "minmax = MinMaxScaler()\n",
    "minmax.fit(X_num)\n",
    "X_scaled = minmax.transform(X_num)\n",
    "test_scaled = minmax.transform(test_num)\n",
    "\n",
    "X_final = pd.concat([pd.DataFrame(X_scaled), X_cat], axis=1)\n",
    "test_final = pd.concat([pd.DataFrame(test_scaled), test_cat], axis=1)\n",
    "\n",
    "y = y['TravelInsurance']\n",
    "\n",
    "model = LogisticRegression()\n",
    "model.fit(X_final,y)\n",
    "\n",
    "pred_test = model.predict_proba(test_final)\n",
    "pred_test_prob = pd.DataFrame(pred_test[:,1], columns=['predict_prob'])\n",
    "final_predict = pd.concat([test['ID'],pred_test_prob],axis=1)\n",
    "final_predict.to_csv('predict.csv',index=False)"
   ]
  },
  {
   "cell_type": "code",
   "execution_count": null,
   "metadata": {},
   "outputs": [],
   "source": []
  }
 ],
 "metadata": {
  "interpreter": {
   "hash": "aee8b7b246df8f9039afb4144a1f6fd8d2ca17a180786b69acc140d282b71a49"
  },
  "kernelspec": {
   "display_name": "Python 3.10.1 64-bit",
   "language": "python",
   "name": "python3"
  },
  "language_info": {
   "codemirror_mode": {
    "name": "ipython",
    "version": 3
   },
   "file_extension": ".py",
   "mimetype": "text/x-python",
   "name": "python",
   "nbconvert_exporter": "python",
   "pygments_lexer": "ipython3",
   "version": "3.10.1"
  },
  "orig_nbformat": 4
 },
 "nbformat": 4,
 "nbformat_minor": 2
}
