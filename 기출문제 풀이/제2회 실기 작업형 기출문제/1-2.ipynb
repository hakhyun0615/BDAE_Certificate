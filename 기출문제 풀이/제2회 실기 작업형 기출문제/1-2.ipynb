{
 "cells": [
  {
   "cell_type": "code",
   "execution_count": 22,
   "metadata": {},
   "outputs": [],
   "source": [
    "# dropna :결측치 제거 (subset=['원하는 열'])\n",
    "# fillna : 결측치 채우기"
   ]
  },
  {
   "cell_type": "code",
   "execution_count": 24,
   "metadata": {},
   "outputs": [
    {
     "name": "stdout",
     "output_type": "stream",
     "text": [
      "1.9751472916456692\n"
     ]
    },
    {
     "name": "stderr",
     "output_type": "stream",
     "text": [
      "/var/folders/9_/sgsl0tzx6vdgmg8_b6zqjtp00000gn/T/ipykernel_2763/2372035571.py:11: SettingWithCopyWarning: \n",
      "A value is trying to be set on a copy of a slice from a DataFrame.\n",
      "Try using .loc[row_indexer,col_indexer] = value instead\n",
      "\n",
      "See the caveats in the documentation: https://pandas.pydata.org/pandas-docs/stable/user_guide/indexing.html#returning-a-view-versus-a-copy\n",
      "  train_data['total_bedrooms'] = train_data['total_bedrooms'].fillna(median)\n"
     ]
    }
   ],
   "source": [
    "import pandas as pd\n",
    "\n",
    "data = pd.read_csv('california_housing.csv')\n",
    "# print(data)\n",
    "# print(len(data)*0.8)\n",
    "train_data = data.iloc[:16512]\n",
    "# print(len(train_data))\n",
    "# print(train_data['total_bedrooms'].isnull().sum())\n",
    "before_std = train_data['total_bedrooms'].std()\n",
    "median =train_data['total_bedrooms'].median()\n",
    "train_data['total_bedrooms'] = train_data['total_bedrooms'].fillna(median)\n",
    "# print(train_data['total_bedrooms'].isnull().sum())\n",
    "after_std = train_data['total_bedrooms'].std()\n",
    "print(abs(after_std-before_std))\n",
    "\n"
   ]
  },
  {
   "cell_type": "code",
   "execution_count": 27,
   "metadata": {},
   "outputs": [
    {
     "name": "stdout",
     "output_type": "stream",
     "text": [
      "1.9751472916456692\n"
     ]
    },
    {
     "name": "stderr",
     "output_type": "stream",
     "text": [
      "/var/folders/9_/sgsl0tzx6vdgmg8_b6zqjtp00000gn/T/ipykernel_2763/1757705253.py:6: FutureWarning: Dropping of nuisance columns in DataFrame reductions (with 'numeric_only=None') is deprecated; in a future version this will raise TypeError.  Select only valid columns before calling the reduction.\n",
      "  data_80_fill = data_80.fillna(data_80.median())\n"
     ]
    }
   ],
   "source": [
    "import pandas as pd\n",
    "\n",
    "data = pd.read_csv('california_housing.csv')\n",
    "data_80 = data[:16512]\n",
    "pre_std = data_80['total_bedrooms'].std()\n",
    "data_80_fill = data_80.fillna(data_80.median())\n",
    "post_std = data_80_fill['total_bedrooms'].std()\n",
    "print(abs(pre_std-post_std))"
   ]
  },
  {
   "cell_type": "code",
   "execution_count": null,
   "metadata": {},
   "outputs": [],
   "source": []
  }
 ],
 "metadata": {
  "interpreter": {
   "hash": "aee8b7b246df8f9039afb4144a1f6fd8d2ca17a180786b69acc140d282b71a49"
  },
  "kernelspec": {
   "display_name": "Python 3.10.1 64-bit",
   "language": "python",
   "name": "python3"
  },
  "language_info": {
   "codemirror_mode": {
    "name": "ipython",
    "version": 3
   },
   "file_extension": ".py",
   "mimetype": "text/x-python",
   "name": "python",
   "nbconvert_exporter": "python",
   "pygments_lexer": "ipython3",
   "version": "3.10.1"
  },
  "orig_nbformat": 4
 },
 "nbformat": 4,
 "nbformat_minor": 2
}
