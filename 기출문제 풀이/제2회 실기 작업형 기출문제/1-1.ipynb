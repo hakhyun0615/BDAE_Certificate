{
 "cells": [
  {
   "cell_type": "code",
   "execution_count": 10,
   "metadata": {},
   "outputs": [
    {
     "name": "stdout",
     "output_type": "stream",
     "text": [
      "5.759386625\n"
     ]
    },
    {
     "name": "stderr",
     "output_type": "stream",
     "text": [
      "/var/folders/9_/sgsl0tzx6vdgmg8_b6zqjtp00000gn/T/ipykernel_2151/605739684.py:6: SettingWithCopyWarning: \n",
      "A value is trying to be set on a copy of a slice from a DataFrame\n",
      "\n",
      "See the caveats in the documentation: https://pandas.pydata.org/pandas-docs/stable/user_guide/indexing.html#returning-a-view-versus-a-copy\n",
      "  a['crim'].iloc[i] = 25.9406\n"
     ]
    }
   ],
   "source": [
    "import pandas as pd\n",
    "\n",
    "a = pd.read_csv('boston_housing.csv')\n",
    "a = a.sort_values(by='crim',ascending=False)\n",
    "for i in range(10):\n",
    "    a['crim'].iloc[i] = 25.9406\n",
    "a = a[a['age']>=80]\n",
    "print(a['crim'].mean())"
   ]
  },
  {
   "cell_type": "code",
   "execution_count": 1,
   "metadata": {},
   "outputs": [
    {
     "name": "stdout",
     "output_type": "stream",
     "text": [
      "5.759386625\n"
     ]
    }
   ],
   "source": [
    "import pandas as pd\n",
    "\n",
    "data = pd.read_csv('boston_housing.csv')\n",
    "data_sort = data.sort_values(by='crim',ascending=False)\n",
    "def recode(series):\n",
    "    if series >= 25.9406:\n",
    "        return 25.9406\n",
    "    else:\n",
    "        return series\n",
    "data_sort['re_crim'] = data_sort['crim'].apply(recode)\n",
    "data_80 = data_sort[data_sort['age']>=80]\n",
    "print(data_80['re_crim'].mean())"
   ]
  },
  {
   "cell_type": "code",
   "execution_count": null,
   "metadata": {},
   "outputs": [],
   "source": []
  }
 ],
 "metadata": {
  "interpreter": {
   "hash": "aee8b7b246df8f9039afb4144a1f6fd8d2ca17a180786b69acc140d282b71a49"
  },
  "kernelspec": {
   "display_name": "Python 3.10.1 64-bit",
   "language": "python",
   "name": "python3"
  },
  "language_info": {
   "codemirror_mode": {
    "name": "ipython",
    "version": 3
   },
   "file_extension": ".py",
   "mimetype": "text/x-python",
   "name": "python",
   "nbconvert_exporter": "python",
   "pygments_lexer": "ipython3",
   "version": "3.10.1"
  },
  "orig_nbformat": 4
 },
 "nbformat": 4,
 "nbformat_minor": 2
}
